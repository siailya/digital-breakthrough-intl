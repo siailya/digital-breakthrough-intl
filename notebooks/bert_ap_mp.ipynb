{
 "cells": [
  {
   "cell_type": "code",
   "execution_count": 1,
   "id": "2c706157-284f-4f04-92f0-0da4ae317c83",
   "metadata": {},
   "outputs": [],
   "source": [
    "from torch import nn\n",
    "from transformers import Trainer\n",
    "\n",
    "class CustomTrainer(Trainer):\n",
    "    def compute_loss(self, model, inputs, return_outputs=False):\n",
    "        labels = inputs.pop(\"labels\")\n",
    "        # forward pass\n",
    "        outputs = model(**inputs)\n",
    "        logits = outputs.logits\n",
    "        # compute custom loss (suppose one has 3 labels with different weights)\n",
    "        loss_fct = nn.CrossEntropyLoss()\n",
    "        loss = loss_fct(logits.view(-1, model.num_classes), labels.view(-1))\n",
    "        return (loss, outputs) if return_outputs else loss"
   ]
  },
  {
   "cell_type": "code",
   "execution_count": 4,
   "id": "48356a8a-fd02-403a-9d43-ae5f1fcf24a8",
   "metadata": {},
   "outputs": [],
   "source": [
    "import torch\n",
    "import torch.nn as nn\n",
    "    \n",
    "from transformers import AutoModel\n",
    "from transformers.modeling_outputs import SequenceClassifierOutput\n",
    "\n",
    "\n",
    "class AttentionPoolerV1(nn.Module):\n",
    "    \"\"\"\n",
    "    самая простая реализация\n",
    "    веса токенов одни и те же для всех лейблов.\n",
    "    по сути только помогает игнорить какой-то общий слабый сигнал для всех классов: например, тишина.\n",
    "    \"\"\"\n",
    "    def __init__(self, d):\n",
    "        super().__init__()\n",
    "        self.pooler = nn.Linear(d, 1)\n",
    "\n",
    "    def forward(self, x, mask):\n",
    "        d = x.shape[-1]\n",
    "        w = self.pooler(x) / d ** 0.5  # [N, T, 1]\n",
    "        w = w + (1.0 - mask[:, :, None].float()) * -10000.0\n",
    "        w = torch.softmax(w, dim=1)  # [N, T, 1]\n",
    "        x = (x * w).sum(1)  # [N, D]\n",
    "        return x\n",
    "\n",
    "class AttentionPoolerV2(nn.Module):\n",
    "    \"\"\"\n",
    "    v1 + только в качестве mlp взята линейная модель с нелинейностью\n",
    "    \"\"\"\n",
    "    def __init__(self, d):\n",
    "        super().__init__()\n",
    "        self.pooler = nn.Sequential(\n",
    "            nn.Linear(d, d),\n",
    "            nn.Tanh(),\n",
    "            nn.Linear(d, 1)\n",
    "        )\n",
    "\n",
    "    def forward(self, x, mask):\n",
    "        w = self.pooler(x)  # [N, T, 1]\n",
    "        w = w + (1.0 - mask[:, :, None].float()) * -10000.0\n",
    "        w = torch.softmax(w, dim=1)  # [N, T, 1]\n",
    "        x = (x * w).sum(1)  # [N, D]\n",
    "        return x\n",
    "    \n",
    "class MeanPooling(nn.Module):\n",
    "    def __init__(self):\n",
    "        super(MeanPooling, self).__init__()\n",
    "        \n",
    "    def forward(self, last_hidden_state, attention_mask):\n",
    "        input_mask_expanded = attention_mask.unsqueeze(-1).expand(last_hidden_state.size()).float()\n",
    "        sum_embeddings = torch.sum(last_hidden_state * input_mask_expanded, 1)\n",
    "        sum_mask = input_mask_expanded.sum(1)\n",
    "        sum_mask = torch.clamp(sum_mask, min=1e-9)\n",
    "        mean_embeddings = sum_embeddings / sum_mask\n",
    "        return mean_embeddings\n",
    "\n",
    "class BertMPModel(nn.Module):\n",
    "    def __init__(self, model_name, num_classes, inp_dim=1024, device='cuda'):\n",
    "        super(BertMPModel, self).__init__()\n",
    "        self.device = device\n",
    "        self.num_classes = num_classes\n",
    "        self.config = AutoConfig.from_pretrained(model_name)\n",
    "        \n",
    "        self.base_model = AutoModel.from_pretrained(model_name, config=self.config)\n",
    "        self.bn = nn.BatchNorm1d(inp_dim)\n",
    "        self.poooling = MeanPooling()\n",
    "        # self.poooling = AttentionPooling(inp_dim)\n",
    "        # self.poooling = AttentionPoolerV2(inp_dim)\n",
    "        self.fc = nn.Linear(inp_dim, num_classes)\n",
    "        \n",
    "    def forward(self, input_ids, attention_mask):\n",
    "        outputs = self.base_model(input_ids, attention_mask=attention_mask)\n",
    "        out = self.poooling(outputs.last_hidden_state, attention_mask)\n",
    "        out = self.bn(out)\n",
    "        outputs = self.fc(out)\n",
    "        return SequenceClassifierOutput(logits=outputs)"
   ]
  },
  {
   "cell_type": "code",
   "execution_count": 5,
   "id": "f140818e-98ff-4ba5-b7c1-88ea61a0fb36",
   "metadata": {},
   "outputs": [
    {
     "data": {
      "application/vnd.jupyter.widget-view+json": {
       "model_id": "d1036b5ed7e54981901d68d443ff9b24",
       "version_major": 2,
       "version_minor": 0
      },
      "text/plain": [
       "Map:   0%|          | 0/19038 [00:00<?, ? examples/s]"
      ]
     },
     "metadata": {},
     "output_type": "display_data"
    },
    {
     "data": {
      "application/vnd.jupyter.widget-view+json": {
       "model_id": "e62439d5216746ea902dca8be5c155b0",
       "version_major": 2,
       "version_minor": 0
      },
      "text/plain": [
       "Map:   0%|          | 0/4509 [00:00<?, ? examples/s]"
      ]
     },
     "metadata": {},
     "output_type": "display_data"
    },
    {
     "name": "stderr",
     "output_type": "stream",
     "text": [
      "You're using a BertTokenizerFast tokenizer. Please note that with a fast tokenizer, using the `__call__` method is faster than using a method to encode the text followed by a call to the `pad` method to get a padded encoding.\n"
     ]
    },
    {
     "data": {
      "text/html": [
       "\n",
       "    <div>\n",
       "      \n",
       "      <progress value='47600' max='47600' style='width:300px; height:20px; vertical-align: middle;'></progress>\n",
       "      [47600/47600 5:11:39, Epoch 10/10]\n",
       "    </div>\n",
       "    <table border=\"1\" class=\"dataframe\">\n",
       "  <thead>\n",
       " <tr style=\"text-align: left;\">\n",
       "      <th>Epoch</th>\n",
       "      <th>Training Loss</th>\n",
       "      <th>Validation Loss</th>\n",
       "      <th>Accuracy</th>\n",
       "      <th>F1 Weighted</th>\n",
       "    </tr>\n",
       "  </thead>\n",
       "  <tbody>\n",
       "    <tr>\n",
       "      <td>1</td>\n",
       "      <td>2.241200</td>\n",
       "      <td>2.083617</td>\n",
       "      <td>{'accuracy': 0.5043246839654025}</td>\n",
       "      <td>{'f1': 0.4432349196885461}</td>\n",
       "    </tr>\n",
       "    <tr>\n",
       "      <td>2</td>\n",
       "      <td>1.712400</td>\n",
       "      <td>2.090804</td>\n",
       "      <td>{'accuracy': 0.5311599024173874}</td>\n",
       "      <td>{'f1': 0.4850894508035282}</td>\n",
       "    </tr>\n",
       "    <tr>\n",
       "      <td>3</td>\n",
       "      <td>1.211700</td>\n",
       "      <td>2.239671</td>\n",
       "      <td>{'accuracy': 0.5559991128853404}</td>\n",
       "      <td>{'f1': 0.5270725278279339}</td>\n",
       "    </tr>\n",
       "    <tr>\n",
       "      <td>4</td>\n",
       "      <td>0.865500</td>\n",
       "      <td>2.620506</td>\n",
       "      <td>{'accuracy': 0.5422488356620093}</td>\n",
       "      <td>{'f1': 0.5266269217048666}</td>\n",
       "    </tr>\n",
       "    <tr>\n",
       "      <td>5</td>\n",
       "      <td>0.557500</td>\n",
       "      <td>3.106532</td>\n",
       "      <td>{'accuracy': 0.5602129075182968}</td>\n",
       "      <td>{'f1': 0.5471032500670828}</td>\n",
       "    </tr>\n",
       "    <tr>\n",
       "      <td>6</td>\n",
       "      <td>0.259000</td>\n",
       "      <td>4.071661</td>\n",
       "      <td>{'accuracy': 0.5553337768906631}</td>\n",
       "      <td>{'f1': 0.5457053870888638}</td>\n",
       "    </tr>\n",
       "    <tr>\n",
       "      <td>7</td>\n",
       "      <td>0.188000</td>\n",
       "      <td>4.420753</td>\n",
       "      <td>{'accuracy': 0.5533377689066312}</td>\n",
       "      <td>{'f1': 0.548229795952305}</td>\n",
       "    </tr>\n",
       "    <tr>\n",
       "      <td>8</td>\n",
       "      <td>0.082400</td>\n",
       "      <td>4.644414</td>\n",
       "      <td>{'accuracy': 0.5582168995342648}</td>\n",
       "      <td>{'f1': 0.5520268838214742}</td>\n",
       "    </tr>\n",
       "    <tr>\n",
       "      <td>9</td>\n",
       "      <td>0.017700</td>\n",
       "      <td>4.976610</td>\n",
       "      <td>{'accuracy': 0.5642049234863606}</td>\n",
       "      <td>{'f1': 0.5584830709352084}</td>\n",
       "    </tr>\n",
       "    <tr>\n",
       "      <td>10</td>\n",
       "      <td>0.012000</td>\n",
       "      <td>4.898055</td>\n",
       "      <td>{'accuracy': 0.5646484808161455}</td>\n",
       "      <td>{'f1': 0.5570950851348362}</td>\n",
       "    </tr>\n",
       "  </tbody>\n",
       "</table><p>"
      ],
      "text/plain": [
       "<IPython.core.display.HTML object>"
      ]
     },
     "metadata": {},
     "output_type": "display_data"
    },
    {
     "data": {
      "text/html": [
       "\n",
       "    <div>\n",
       "      \n",
       "      <progress value='1128' max='1128' style='width:300px; height:20px; vertical-align: middle;'></progress>\n",
       "      [1128/1128 01:44]\n",
       "    </div>\n",
       "    "
      ],
      "text/plain": [
       "<IPython.core.display.HTML object>"
      ]
     },
     "metadata": {},
     "output_type": "display_data"
    },
    {
     "data": {
      "text/plain": [
       "{'eval_loss': 2.0836169719696045,\n",
       " 'eval_accuracy': {'accuracy': 0.5043246839654025},\n",
       " 'eval_f1_weighted': {'f1': 0.4432349196885461},\n",
       " 'eval_runtime': 104.9694,\n",
       " 'eval_samples_per_second': 42.955,\n",
       " 'eval_steps_per_second': 10.746,\n",
       " 'epoch': 10.0}"
      ]
     },
     "execution_count": 5,
     "metadata": {},
     "output_type": "execute_result"
    }
   ],
   "source": [
    "import pandas as pd\n",
    "from transformers import AutoTokenizer, AutoModelForSequenceClassification, TrainingArguments, Trainer, DataCollatorWithPadding, AutoConfig\n",
    "from sklearn.preprocessing import LabelEncoder\n",
    "from sklearn.model_selection import train_test_split\n",
    "from datasets import Dataset, DatasetDict\n",
    "import torch.nn as nn\n",
    "import evaluate\n",
    "import numpy as np\n",
    "import torch\n",
    "\n",
    "\n",
    "torch.manual_seed(42)\n",
    "\n",
    "\n",
    "accuracy = evaluate.load(\"accuracy\")\n",
    "f1_metric = evaluate.load(\"f1\")\n",
    "\n",
    "def compute_metrics(eval_pred):\n",
    "    predictions, labels = eval_pred\n",
    "    predictions = np.argmax(predictions, axis=1)\n",
    "    return {\n",
    "        \"accuracy\": accuracy.compute(predictions=predictions, references=labels),\n",
    "        \"f1_weighted\": f1_metric.compute(predictions=predictions, references=labels, average=\"weighted\")\n",
    "        }\n",
    "\n",
    "def preprocess_logits_for_metrics(logits, labels):\n",
    "    return logits[0]\n",
    "\n",
    "\n",
    "def preprocess_function(examples):\n",
    "    return tokenizer(examples[\"text\"], truncation=True, max_length=512, padding=True)\n",
    "\n",
    "\n",
    "train = pd.read_csv(\"train_dataset_with_synt.csv\")\n",
    "test = pd.read_csv(\"test_dataset.csv\")\n",
    "train = train.rename(columns={\"subject\": \"labels\"})\n",
    "test = test.rename(columns={\"subject\": \"labels\"})\n",
    "\n",
    "le = LabelEncoder()\n",
    "train['labels'] = le.fit_transform(train['labels'])\n",
    "test['labels'] = le.transform(test['labels'])\n",
    "\n",
    "\n",
    "model_name = \"ai-forever/sbert_large_nlu_ru\"\n",
    "batch_size = 4\n",
    "\n",
    "train_dataset = Dataset.from_pandas(train)\n",
    "test_dataset = Dataset.from_pandas(test)\n",
    "\n",
    "ds = DatasetDict()\n",
    "\n",
    "ds['train'] = train_dataset\n",
    "ds['test'] = test_dataset\n",
    "\n",
    "tokenizer = AutoTokenizer.from_pretrained(model_name)\n",
    "model = BertMPModel(model_name, len(le.classes_))\n",
    "\n",
    "tokenized_ds = ds.map(preprocess_function, batched=True)\n",
    "data_collator = DataCollatorWithPadding(tokenizer=tokenizer)\n",
    "\n",
    "training_args = TrainingArguments(\n",
    "    output_dir=\"subject_model_on_my_clear_data\",\n",
    "    learning_rate=3e-5,\n",
    "    per_device_train_batch_size=batch_size,\n",
    "    per_device_eval_batch_size=batch_size,\n",
    "    eval_accumulation_steps=1,\n",
    "    num_train_epochs=10,\n",
    "    weight_decay=0.01,\n",
    "    evaluation_strategy=\"epoch\",\n",
    "    save_strategy=\"epoch\",\n",
    "    lr_scheduler_type=\"cosine\",  \n",
    "    load_best_model_at_end=True,\n",
    "    push_to_hub=False,\n",
    "    label_names=[\"labels\"],\n",
    "    report_to=\"none\",\n",
    "    label_smoothing_factor=0.01,\n",
    "    fp16=True\n",
    ")\n",
    "\n",
    "trainer = CustomTrainer(\n",
    "    model=model,\n",
    "    args=training_args,\n",
    "    train_dataset=tokenized_ds[\"train\"],\n",
    "    eval_dataset=tokenized_ds[\"test\"],\n",
    "    tokenizer=tokenizer,\n",
    "    data_collator=data_collator,\n",
    "    compute_metrics=compute_metrics,\n",
    "    #preprocess_logits_for_metrics=preprocess_logits_for_metrics\n",
    ")\n",
    "\n",
    "trainer.train()\n",
    "trainer.evaluate()"
   ]
  },
  {
   "cell_type": "code",
   "execution_count": null,
   "id": "dafbdb8e-842a-4be7-81ad-37cfe1f9d951",
   "metadata": {},
   "outputs": [],
   "source": [
    "import pickle\n",
    "with open('model/label_encoder_mp.pkl', 'wb') as f:\n",
    "    pickle.dump(le, f)"
   ]
  },
  {
   "cell_type": "code",
   "execution_count": 24,
   "id": "e7b42065-55e7-419b-8dcc-b8022ec8df68",
   "metadata": {},
   "outputs": [],
   "source": [
    "torch.save(trainer.model.state_dict(), \"model/bert_mp.pth\")"
   ]
  },
  {
   "cell_type": "code",
   "execution_count": null,
   "outputs": [],
   "source": [],
   "metadata": {
    "collapsed": false
   },
   "id": "1ab50caf05fa891b"
  },
  {
   "cell_type": "code",
   "execution_count": 25,
   "id": "454158de-ca8a-4e11-baad-1cfda3b83f3b",
   "metadata": {},
   "outputs": [],
   "source": [
    "model1 = BertMPModel(model_name, len(le.classes_))"
   ]
  },
  {
   "cell_type": "code",
   "execution_count": 26,
   "id": "e94e445e-2b1c-430d-a91d-6c43eb06c463",
   "metadata": {},
   "outputs": [
    {
     "data": {
      "text/plain": [
       "<All keys matched successfully>"
      ]
     },
     "execution_count": 26,
     "metadata": {},
     "output_type": "execute_result"
    }
   ],
   "source": [
    "model1.load_state_dict(torch.load(\"model/bert_mp.pth\"))"
   ]
  },
  {
   "cell_type": "code",
   "execution_count": 27,
   "id": "faa82b56-8058-4d43-9424-e50f54706112",
   "metadata": {},
   "outputs": [],
   "source": [
    "training_args = TrainingArguments(\n",
    "    output_dir=\"subject_model_on_my_clear_data\",\n",
    "    learning_rate=3e-5,\n",
    "    per_device_train_batch_size=batch_size,\n",
    "    per_device_eval_batch_size=batch_size,\n",
    "    eval_accumulation_steps=1,\n",
    "    num_train_epochs=10,\n",
    "    weight_decay=0.01,\n",
    "    evaluation_strategy=\"epoch\",\n",
    "    save_strategy=\"epoch\",\n",
    "    lr_scheduler_type=\"cosine\",  \n",
    "    load_best_model_at_end=True,\n",
    "    push_to_hub=False,\n",
    "    label_names=[\"labels\"],\n",
    "    report_to=\"none\",\n",
    "    label_smoothing_factor=0.01,\n",
    "    fp16=True\n",
    ")\n",
    "\n",
    "trainer1 = CustomTrainer(\n",
    "    model=model1,\n",
    "    args=training_args,\n",
    "    train_dataset=tokenized_ds[\"train\"],\n",
    "    eval_dataset=tokenized_ds[\"test\"],\n",
    "    tokenizer=tokenizer,\n",
    "    data_collator=data_collator,\n",
    "    compute_metrics=compute_metrics,\n",
    "    #preprocess_logits_for_metrics=preprocess_logits_for_metrics\n",
    ")"
   ]
  },
  {
   "cell_type": "code",
   "execution_count": 28,
   "id": "f64f2648-6893-4702-9c0f-4a62fffca997",
   "metadata": {},
   "outputs": [
    {
     "data": {
      "text/html": [
       "\n",
       "    <div>\n",
       "      \n",
       "      <progress value='1128' max='1128' style='width:300px; height:20px; vertical-align: middle;'></progress>\n",
       "      [1128/1128 01:43]\n",
       "    </div>\n",
       "    "
      ],
      "text/plain": [
       "<IPython.core.display.HTML object>"
      ]
     },
     "metadata": {},
     "output_type": "display_data"
    },
    {
     "data": {
      "text/plain": [
       "{'eval_loss': 4.757267475128174,\n",
       " 'eval_accuracy': {'accuracy': 0.5657573741406077},\n",
       " 'eval_f1_weighted': {'f1': 0.5604479363245909},\n",
       " 'eval_runtime': 103.4901,\n",
       " 'eval_samples_per_second': 43.569,\n",
       " 'eval_steps_per_second': 10.9}"
      ]
     },
     "execution_count": 28,
     "metadata": {},
     "output_type": "execute_result"
    }
   ],
   "source": [
    "trainer1.evaluate()"
   ]
  },
  {
   "cell_type": "code",
   "execution_count": null,
   "id": "236a3f12-0f9b-4a9c-8f2e-44cbf5e58f08",
   "metadata": {},
   "outputs": [],
   "source": [
    "model = AutoModel.from_pretrained(\"<path_to_saved_pretrained_model>\")"
   ]
  },
  {
   "cell_type": "code",
   "execution_count": null,
   "id": "53ab331f-7573-4b9f-927b-a448cc48638f",
   "metadata": {},
   "outputs": [],
   "source": []
  },
  {
   "cell_type": "code",
   "execution_count": null,
   "id": "6c0ec8cc-9b39-4a73-80b1-e1b0235bcd93",
   "metadata": {},
   "outputs": [],
   "source": []
  },
  {
   "cell_type": "code",
   "execution_count": null,
   "id": "38ec193d-43ca-4aeb-917c-0650dddf0795",
   "metadata": {},
   "outputs": [],
   "source": []
  },
  {
   "cell_type": "code",
   "execution_count": null,
   "id": "61fb5877-bb1e-4519-b3d7-15e2fb099a7b",
   "metadata": {},
   "outputs": [],
   "source": []
  }
 ],
 "metadata": {
  "kernelspec": {
   "display_name": "Python 3 (ipykernel)",
   "language": "python",
   "name": "python3"
  },
  "language_info": {
   "codemirror_mode": {
    "name": "ipython",
    "version": 3
   },
   "file_extension": ".py",
   "mimetype": "text/x-python",
   "name": "python",
   "nbconvert_exporter": "python",
   "pygments_lexer": "ipython3",
   "version": "3.10.4"
  }
 },
 "nbformat": 4,
 "nbformat_minor": 5
}

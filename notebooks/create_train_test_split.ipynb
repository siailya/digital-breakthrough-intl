{
 "cells": [
  {
   "cell_type": "code",
   "execution_count": 433,
   "metadata": {},
   "outputs": [],
   "source": [
    "import pandas as pd\n",
    "import re"
   ]
  },
  {
   "cell_type": "code",
   "execution_count": 434,
   "metadata": {},
   "outputs": [],
   "source": [
    "data = pd.read_csv(\"/work/hack/train_dataset_train.csv\", sep=\";\")"
   ]
  },
  {
   "cell_type": "code",
   "execution_count": 435,
   "metadata": {},
   "outputs": [],
   "source": [
    "rename_columns = {\n",
    "    \"Текст инцидента\": \"text\",\n",
    "    \"Тема\": \"subject\",\n",
    "    \"Исполнитель\": \"executor\",\n",
    "    \"Группа тем\": \"group_subject\"\n",
    "}\n",
    "data = data.rename(columns=rename_columns)"
   ]
  },
  {
   "cell_type": "code",
   "execution_count": 436,
   "metadata": {},
   "outputs": [
    {
     "data": {
      "text/html": [
       "<div>\n",
       "<style scoped>\n",
       "    .dataframe tbody tr th:only-of-type {\n",
       "        vertical-align: middle;\n",
       "    }\n",
       "\n",
       "    .dataframe tbody tr th {\n",
       "        vertical-align: top;\n",
       "    }\n",
       "\n",
       "    .dataframe thead th {\n",
       "        text-align: right;\n",
       "    }\n",
       "</style>\n",
       "<table border=\"1\" class=\"dataframe\">\n",
       "  <thead>\n",
       "    <tr style=\"text-align: right;\">\n",
       "      <th></th>\n",
       "      <th>executor</th>\n",
       "      <th>group_subject</th>\n",
       "      <th>text</th>\n",
       "      <th>subject</th>\n",
       "    </tr>\n",
       "  </thead>\n",
       "  <tbody>\n",
       "    <tr>\n",
       "      <th>count</th>\n",
       "      <td>23128</td>\n",
       "      <td>23128</td>\n",
       "      <td>23128</td>\n",
       "      <td>23128</td>\n",
       "    </tr>\n",
       "    <tr>\n",
       "      <th>unique</th>\n",
       "      <td>10</td>\n",
       "      <td>26</td>\n",
       "      <td>22656</td>\n",
       "      <td>195</td>\n",
       "    </tr>\n",
       "    <tr>\n",
       "      <th>top</th>\n",
       "      <td>Министерство здравоохранения</td>\n",
       "      <td>Здравоохранение/Медицина</td>\n",
       "      <td>'Сообщение без текста</td>\n",
       "      <td>Дети и многодетные семьи</td>\n",
       "    </tr>\n",
       "    <tr>\n",
       "      <th>freq</th>\n",
       "      <td>5765</td>\n",
       "      <td>4673</td>\n",
       "      <td>134</td>\n",
       "      <td>2008</td>\n",
       "    </tr>\n",
       "  </tbody>\n",
       "</table>\n",
       "</div>"
      ],
      "text/plain": [
       "                            executor             group_subject  \\\n",
       "count                          23128                     23128   \n",
       "unique                            10                        26   \n",
       "top     Министерство здравоохранения  Здравоохранение/Медицина   \n",
       "freq                            5765                      4673   \n",
       "\n",
       "                         text                   subject  \n",
       "count                   23128                     23128  \n",
       "unique                  22656                       195  \n",
       "top     'Сообщение без текста  Дети и многодетные семьи  \n",
       "freq                      134                      2008  "
      ]
     },
     "execution_count": 436,
     "metadata": {},
     "output_type": "execute_result"
    }
   ],
   "source": [
    "data.describe()"
   ]
  },
  {
   "cell_type": "code",
   "execution_count": 437,
   "metadata": {},
   "outputs": [
    {
     "data": {
      "text/plain": [
       "Index([''Сообщение без текста', ''Здравствуйте', '''], dtype='object')"
      ]
     },
     "execution_count": 437,
     "metadata": {},
     "output_type": "execute_result"
    }
   ],
   "source": [
    "data['text'].value_counts()[:3].index"
   ]
  },
  {
   "cell_type": "code",
   "execution_count": 438,
   "metadata": {},
   "outputs": [],
   "source": [
    "dataset = data[['executor', 'text']]\n",
    "dataset = dataset.rename(columns={\"executor\": \"label\"})"
   ]
  },
  {
   "cell_type": "code",
   "execution_count": 439,
   "metadata": {},
   "outputs": [
    {
     "name": "stdout",
     "output_type": "stream",
     "text": [
      "23128\n",
      "22543\n"
     ]
    }
   ],
   "source": [
    "print(len(data))\n",
    "data['text'] = data['text'].apply(lambda x: re.sub(r'http\\S+', '', x)) \n",
    "data['text'] = data['text'].apply(lambda x: re.sub('<[^<]+?>', '', x))\n",
    "data = data[data['text'] != \"'Сообщение без текста\"]\n",
    "data['text'] = data['text'].apply(lambda x: x.replace(\"'\", \"\"))\n",
    "replics_to_remove = [\n",
    "    \"Да\", \"Начать\", \"???\", \"Писала\", \"Да.\", \"да\", \"Спасибо за ответ\",\n",
    "    \"Здравствуйте\", \"Да, подтверждаю\", \"Добрый день\",\n",
    "    \"Да подтверждаю\", \"Добрый день!\", \"Да, подтверждаю.\",\n",
    "    \"Здравствуйте!\", \"Добрый день.\", \"Доброе утро!\",\n",
    "    \"Да,подтверждаю\", \"Принять и продолжить 👌\",\n",
    "    \"Ау\", \"Это что?\", \"Ива 1\", \"Везде\",\n",
    "    \"Жду ответ\", \"Пропустить\", \"Да, потверждаю\",\n",
    "    \"Спрашиваю )\", \"Здраствуйте!\", \"Здраствуйте,\",\n",
    "    \"добрый день\", \"Очень грустно\", \"Добавляю фото\",\n",
    "    \"август 2022\", \"Дополнение...\", \"Не работает\",\n",
    "    \"Добрый вечер!\", \"Добрый день!!\", \"Здравствуйте.\",\n",
    "    \"Я подтверждаю\", \"Здравствуйте,\", \"Да подтвержаю\",\n",
    "    \"Жду ответа\", \"> [Анонимно.]\", \"Квест..\",\n",
    "    \"Это что такое\", \"Детям тоже?\", \"Даже в 14 лет?\",\n",
    "    \"VID_20220912_095100.mp4\", \"05.09.2022\",\n",
    "    \"Да подтверждаю!\", \"Это вообще норм\", \"Вечная проблема\",\n",
    "    \"Чайка тоже нет😐\", \"Вы мне ответите?\", \"Пять минут назад\",\n",
    "    \"@samaya547, Наталья\", \"Да , подтверждаю .\",\n",
    "    \"Интересно это правда или как?\", \"Посылаю вам фотографии\"\n",
    "]\n",
    "data = data[~data['text'].isin(replics_to_remove)]\n",
    "data = data[~data['text'].str.isspace()]\n",
    "data = data[data['text'] != \"\"]\n",
    "data = data.drop_duplicates()\n",
    "v = data['text'].value_counts()\n",
    "data = data[~data['text'].isin(v.index[v.gt(1)])]\n",
    "print(len(data))"
   ]
  },
  {
   "cell_type": "code",
   "execution_count": 440,
   "metadata": {},
   "outputs": [],
   "source": [
    "from sklearn.model_selection import train_test_split\n",
    "\n",
    "data['for_strat'] = data['group_subject'] + data['subject']\n",
    "train, test = train_test_split(data, stratify=data['for_strat'], test_size=0.2)\n",
    "train = train.drop(columns=['for_strat'])\n",
    "test = test.drop(columns=['for_strat'])"
   ]
  },
  {
   "cell_type": "code",
   "execution_count": 441,
   "metadata": {},
   "outputs": [],
   "source": [
    "train.to_csv(\"train_dataset.csv\", index=False)\n",
    "test.to_csv(\"test_dataset.csv\", index=False)"
   ]
  },
  {
   "cell_type": "code",
   "execution_count": null,
   "metadata": {},
   "outputs": [],
   "source": [
    "train"
   ]
  }
 ],
 "metadata": {
  "kernelspec": {
   "display_name": "base",
   "language": "python",
   "name": "python3"
  },
  "language_info": {
   "codemirror_mode": {
    "name": "ipython",
    "version": 3
   },
   "file_extension": ".py",
   "mimetype": "text/x-python",
   "name": "python",
   "nbconvert_exporter": "python",
   "pygments_lexer": "ipython3",
   "version": "3.9.7"
  }
 },
 "nbformat": 4,
 "nbformat_minor": 2
}
